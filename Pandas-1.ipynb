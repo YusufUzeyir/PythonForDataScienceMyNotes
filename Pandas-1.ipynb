{
 "cells": [
  {
   "cell_type": "code",
   "execution_count": 3,
   "id": "6089f8a6-8730-4c07-bfd4-55050e43dcb0",
   "metadata": {},
   "outputs": [],
   "source": [
    "import numpy as np"
   ]
  },
  {
   "cell_type": "code",
   "execution_count": 4,
   "id": "462808e0-2274-4390-91bf-4e5be3128653",
   "metadata": {},
   "outputs": [],
   "source": [
    "import pandas as pd"
   ]
  },
  {
   "cell_type": "code",
   "execution_count": 5,
   "id": "9ff10fda-e58b-4b22-af26-60f5bb157484",
   "metadata": {},
   "outputs": [],
   "source": [
    "grades={\"Uzeyir\":50,\"James\":60,\"Bond\":30}"
   ]
  },
  {
   "cell_type": "code",
   "execution_count": 6,
   "id": "d4db7b8f-0f66-4399-bb92-2c617711c3ec",
   "metadata": {},
   "outputs": [
    {
     "data": {
      "text/plain": [
       "Uzeyir    50\n",
       "james     60\n",
       "Bond      30\n",
       "dtype: int64"
      ]
     },
     "execution_count": 6,
     "metadata": {},
     "output_type": "execute_result"
    }
   ],
   "source": [
    "pd.Series(grades)"
   ]
  },
  {
   "cell_type": "code",
   "execution_count": 9,
   "id": "cbb8ca8c-201a-44f7-94f9-679e002d729b",
   "metadata": {},
   "outputs": [],
   "source": [
    "names= [\"Uzeyir\",\"James\",\"Bond\"]\n",
    "grades=[50,60,30]"
   ]
  },
  {
   "cell_type": "code",
   "execution_count": 10,
   "id": "77c4a283-c741-4055-9d12-acc069e05a8f",
   "metadata": {},
   "outputs": [
    {
     "data": {
      "text/plain": [
       "0    Uzeyir\n",
       "1     James\n",
       "2      Bond\n",
       "dtype: object"
      ]
     },
     "execution_count": 10,
     "metadata": {},
     "output_type": "execute_result"
    }
   ],
   "source": [
    "pd.Series(names)"
   ]
  },
  {
   "cell_type": "code",
   "execution_count": 11,
   "id": "191fd395-b301-4751-b4f9-33bd064cdfa0",
   "metadata": {},
   "outputs": [
    {
     "data": {
      "text/plain": [
       "0    50\n",
       "1    60\n",
       "2    30\n",
       "dtype: int64"
      ]
     },
     "execution_count": 11,
     "metadata": {},
     "output_type": "execute_result"
    }
   ],
   "source": [
    "pd.Series(grades)"
   ]
  },
  {
   "cell_type": "code",
   "execution_count": 13,
   "id": "8b856433-d16c-406d-bc32-0cd4c38539fd",
   "metadata": {},
   "outputs": [
    {
     "data": {
      "text/plain": [
       "Uzeyir    50\n",
       "James     60\n",
       "Bond      30\n",
       "dtype: int64"
      ]
     },
     "execution_count": 13,
     "metadata": {},
     "output_type": "execute_result"
    }
   ],
   "source": [
    "pd.Series(grades,names)"
   ]
  },
  {
   "cell_type": "code",
   "execution_count": 17,
   "id": "d82bfa23-185a-4bf4-a58d-648cf92aa158",
   "metadata": {},
   "outputs": [
    {
     "data": {
      "text/plain": [
       "Uzeyir    50\n",
       "James     60\n",
       "Bond      30\n",
       "dtype: int64"
      ]
     },
     "execution_count": 17,
     "metadata": {},
     "output_type": "execute_result"
    }
   ],
   "source": [
    "pd.Series(data=grades,index=names)"
   ]
  },
  {
   "cell_type": "code",
   "execution_count": 19,
   "id": "7251aeb1-225e-4302-b542-590211ee4d84",
   "metadata": {},
   "outputs": [],
   "source": [
    "# with numpy"
   ]
  },
  {
   "cell_type": "code",
   "execution_count": 21,
   "id": "22c4ed81-6d93-4f46-bb99-eb8fa03ce74f",
   "metadata": {},
   "outputs": [],
   "source": [
    "numpy_array=np.array([50,40,30,20])"
   ]
  },
  {
   "cell_type": "code",
   "execution_count": 23,
   "id": "d5632b40-01ad-4a08-a535-f3b2120247a6",
   "metadata": {},
   "outputs": [
    {
     "data": {
      "text/plain": [
       "0    50\n",
       "1    40\n",
       "2    30\n",
       "3    20\n",
       "dtype: int32"
      ]
     },
     "execution_count": 23,
     "metadata": {},
     "output_type": "execute_result"
    }
   ],
   "source": [
    "pd.Series(numpy_array)"
   ]
  },
  {
   "cell_type": "code",
   "execution_count": 24,
   "id": "e1b0d358-17ab-41b0-90f3-481ba78341f3",
   "metadata": {},
   "outputs": [],
   "source": [
    "# arithmetic"
   ]
  },
  {
   "cell_type": "code",
   "execution_count": 27,
   "id": "56f4fce1-6013-4262-8279-1cb9a8bdc658",
   "metadata": {},
   "outputs": [],
   "source": [
    "contest_result=pd.Series(data=[10,5,100], index=[\"Uzeyir\",\"James\",\"Bond\"])"
   ]
  },
  {
   "cell_type": "code",
   "execution_count": 28,
   "id": "59110ef5-fe9f-45cd-b2ee-6fe59f7c6dcf",
   "metadata": {},
   "outputs": [],
   "source": [
    "contest_result2=pd.Series(data=[20,50,10], index=[\"Uzeyir\",\"James\",\"Bond\"])"
   ]
  },
  {
   "cell_type": "code",
   "execution_count": 33,
   "id": "d9d648f3-1a28-4fb1-afc1-76e810034084",
   "metadata": {},
   "outputs": [
    {
     "data": {
      "text/plain": [
       "Uzeyir     10\n",
       "James       5\n",
       "Bond      100\n",
       "dtype: int64"
      ]
     },
     "execution_count": 33,
     "metadata": {},
     "output_type": "execute_result"
    }
   ],
   "source": [
    "contest_result"
   ]
  },
  {
   "cell_type": "code",
   "execution_count": 34,
   "id": "ebf48ec3-5c33-4842-b3ca-8ca39ab358e6",
   "metadata": {},
   "outputs": [
    {
     "data": {
      "text/plain": [
       "10"
      ]
     },
     "execution_count": 34,
     "metadata": {},
     "output_type": "execute_result"
    }
   ],
   "source": [
    "contest_result[\"Uzeyir\"]"
   ]
  },
  {
   "cell_type": "code",
   "execution_count": 35,
   "id": "47ac2d22-5a5d-49ac-86b0-baa8fc234cea",
   "metadata": {},
   "outputs": [
    {
     "data": {
      "text/plain": [
       "5"
      ]
     },
     "execution_count": 35,
     "metadata": {},
     "output_type": "execute_result"
    }
   ],
   "source": [
    "contest_result[\"James\"]"
   ]
  },
  {
   "cell_type": "code",
   "execution_count": 40,
   "id": "f26fb2e3-e50a-4b84-bb8c-32e24ec11e5d",
   "metadata": {},
   "outputs": [],
   "source": [
    "final_result=contest_result+contest_result2"
   ]
  },
  {
   "cell_type": "code",
   "execution_count": 41,
   "id": "79df4c16-6aa3-42a0-b40a-642df214fa99",
   "metadata": {},
   "outputs": [
    {
     "data": {
      "text/plain": [
       "Uzeyir     30\n",
       "James      55\n",
       "Bond      110\n",
       "dtype: int64"
      ]
     },
     "execution_count": 41,
     "metadata": {},
     "output_type": "execute_result"
    }
   ],
   "source": [
    "final_result"
   ]
  },
  {
   "cell_type": "code",
   "execution_count": 42,
   "id": "f3204eda-28d7-4221-98fd-8d3e3bd166d1",
   "metadata": {},
   "outputs": [
    {
     "data": {
      "text/plain": [
       "Uzeyir   -10\n",
       "James    -45\n",
       "Bond      90\n",
       "dtype: int64"
      ]
     },
     "execution_count": 42,
     "metadata": {},
     "output_type": "execute_result"
    }
   ],
   "source": [
    "contest_result-contest_result2"
   ]
  },
  {
   "cell_type": "code",
   "execution_count": 43,
   "id": "7925cd4f-db85-4633-8efe-a7fe9c3705b7",
   "metadata": {},
   "outputs": [
    {
     "data": {
      "text/plain": [
       "Uzeyir     200\n",
       "James      250\n",
       "Bond      1000\n",
       "dtype: int64"
      ]
     },
     "execution_count": 43,
     "metadata": {},
     "output_type": "execute_result"
    }
   ],
   "source": [
    "contest_result*contest_result2"
   ]
  },
  {
   "cell_type": "code",
   "execution_count": 44,
   "id": "4d1c2c21-f132-47a6-890b-74b019db736e",
   "metadata": {},
   "outputs": [
    {
     "data": {
      "text/plain": [
       "Uzeyir     0.5\n",
       "James      0.1\n",
       "Bond      10.0\n",
       "dtype: float64"
      ]
     },
     "execution_count": 44,
     "metadata": {},
     "output_type": "execute_result"
    }
   ],
   "source": [
    "contest_result/contest_result2"
   ]
  },
  {
   "cell_type": "code",
   "execution_count": 45,
   "id": "bbeb4370-7df5-4b50-b319-86036d8354d5",
   "metadata": {},
   "outputs": [],
   "source": [
    "different_series=pd.Series([20,30,40,50],[\"a\",\"b\",\"c\",\"d\"])"
   ]
  },
  {
   "cell_type": "code",
   "execution_count": 48,
   "id": "c21edc02-d6e1-4059-95a6-e2a223771b5d",
   "metadata": {},
   "outputs": [],
   "source": [
    "different_series2=pd.Series([10,5,3,1],[\"a\",\"c\",\"f\",\"g\"])"
   ]
  },
  {
   "cell_type": "code",
   "execution_count": 49,
   "id": "a6ce6524-9376-4411-a747-9c94740283bf",
   "metadata": {},
   "outputs": [
    {
     "data": {
      "text/plain": [
       "a    30.0\n",
       "b     NaN\n",
       "c    45.0\n",
       "d     NaN\n",
       "f     NaN\n",
       "g     NaN\n",
       "dtype: float64"
      ]
     },
     "execution_count": 49,
     "metadata": {},
     "output_type": "execute_result"
    }
   ],
   "source": [
    "different_series+different_series2"
   ]
  },
  {
   "cell_type": "code",
   "execution_count": null,
   "id": "977b4c8b-9fa5-49dd-b229-d37235381394",
   "metadata": {},
   "outputs": [],
   "source": []
  },
  {
   "cell_type": "code",
   "execution_count": null,
   "id": "cea64044-110b-4c5e-a5d4-6a8428843127",
   "metadata": {},
   "outputs": [],
   "source": []
  }
 ],
 "metadata": {
  "kernelspec": {
   "display_name": "Python 3 (ipykernel)",
   "language": "python",
   "name": "python3"
  },
  "language_info": {
   "codemirror_mode": {
    "name": "ipython",
    "version": 3
   },
   "file_extension": ".py",
   "mimetype": "text/x-python",
   "name": "python",
   "nbconvert_exporter": "python",
   "pygments_lexer": "ipython3",
   "version": "3.12.7"
  }
 },
 "nbformat": 4,
 "nbformat_minor": 5
}
